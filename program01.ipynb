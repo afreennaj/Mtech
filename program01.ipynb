{
  "nbformat": 4,
  "nbformat_minor": 0,
  "metadata": {
    "colab": {
      "name": "Untitled1.ipynb",
      "provenance": [],
      "collapsed_sections": [],
      "authorship_tag": "ABX9TyOpCwz6UA7DgvCFmz67lpts",
      "include_colab_link": true
    },
    "kernelspec": {
      "name": "python3",
      "display_name": "Python 3"
    },
    "language_info": {
      "name": "python"
    }
  },
  "cells": [
    {
      "cell_type": "markdown",
      "metadata": {
        "id": "view-in-github",
        "colab_type": "text"
      },
      "source": [
        "<a href=\"https://colab.research.google.com/github/afreennaj/Mtech/blob/python1/program01.ipynb\" target=\"_parent\"><img src=\"https://colab.research.google.com/assets/colab-badge.svg\" alt=\"Open In Colab\"/></a>"
      ]
    },
    {
      "cell_type": "code",
      "execution_count": 17,
      "metadata": {
        "colab": {
          "base_uri": "https://localhost:8080/"
        },
        "id": "r4xpR6XSLUIq",
        "outputId": "806e3db7-7085-4f83-9a4e-41e7c94f13d2"
      },
      "outputs": [
        {
          "output_type": "stream",
          "name": "stdout",
          "text": [
            "Enter your annual salary:2000\n",
            "enter the number of years employed:4\n",
            "you must earn 30000.00 per year\n"
          ]
        }
      ],
      "source": [
        "Min_salary= 30000.00\n",
        "Min_years=2\n",
        "salary=float(input('Enter your annual salary:'))\n",
        "year=int(input('enter the number of years employed:'))\n",
        "if salary >= Min_salary:\n",
        "  if year >= Min_years:\n",
        "    print('You qualify for the loan.')\n",
        "  else:\n",
        "      print('You must have been employed for 2 years to qualify.')\n",
        "else:\n",
        "  print('you must earn 30000.00 per year')\n",
        "\n",
        "   "
      ]
    }
  ]
}