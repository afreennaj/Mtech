{
  "nbformat": 4,
  "nbformat_minor": 0,
  "metadata": {
    "colab": {
      "name": "Untitled2.ipynb",
      "provenance": [],
      "authorship_tag": "ABX9TyPAWXD67oYnB+QdigUpMPvK",
      "include_colab_link": true
    },
    "kernelspec": {
      "name": "python3",
      "display_name": "Python 3"
    },
    "language_info": {
      "name": "python"
    }
  },
  "cells": [
    {
      "cell_type": "markdown",
      "metadata": {
        "id": "view-in-github",
        "colab_type": "text"
      },
      "source": [
        "<a href=\"https://colab.research.google.com/github/afreennaj/Mtech/blob/python1/python2.ipynb\" target=\"_parent\"><img src=\"https://colab.research.google.com/assets/colab-badge.svg\" alt=\"Open In Colab\"/></a>"
      ]
    },
    {
      "cell_type": "code",
      "source": [
        "start_speed=60\n",
        "end_speed=131\n",
        "increment=10\n",
        "conversion_factor=0.6214\n",
        "print('KPH\\tMPH')\n",
        "print('--------------')\n",
        "for kph in range(start_speed, end_speed, increment):\n",
        "    mph=kph * conversion_factor\n",
        "    print(kph, '\\t', format(mph, '.1f'))\n",
        "    "
      ],
      "metadata": {
        "colab": {
          "base_uri": "https://localhost:8080/"
        },
        "id": "PeywbCRAShpJ",
        "outputId": "506e6e93-6bf8-47d8-8af7-0fb7f3993fc1"
      },
      "execution_count": null,
      "outputs": [
        {
          "output_type": "stream",
          "name": "stdout",
          "text": [
            "KPH\tMPH\n",
            "--------------\n",
            "60 \t 37.3\n",
            "70 \t 43.5\n",
            "80 \t 49.7\n",
            "90 \t 55.9\n",
            "100 \t 62.1\n",
            "110 \t 68.4\n",
            "120 \t 74.6\n",
            "130 \t 80.8\n"
          ]
        }
      ]
    }
  ]
}